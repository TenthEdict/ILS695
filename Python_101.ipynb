{
  "nbformat": 4,
  "nbformat_minor": 0,
  "metadata": {
    "kernelspec": {
      "display_name": "Python 3",
      "language": "python",
      "name": "python3"
    },
    "language_info": {
      "codemirror_mode": {
        "name": "ipython",
        "version": 3
      },
      "file_extension": ".py",
      "mimetype": "text/x-python",
      "name": "python",
      "nbconvert_exporter": "python",
      "pygments_lexer": "ipython3",
      "version": "3.6.9"
    },
    "toc": {
      "base_numbering": 1,
      "nav_menu": {},
      "number_sections": false,
      "sideBar": true,
      "skip_h1_title": false,
      "title_cell": "Table of Contents",
      "title_sidebar": "Contents",
      "toc_cell": false,
      "toc_position": {
        "height": "calc(100% - 180px)",
        "left": "10px",
        "top": "150px",
        "width": "383.991px"
      },
      "toc_section_display": true,
      "toc_window_display": true
    },
    "colab": {
      "provenance": [],
      "collapsed_sections": [
        "mOc-HCCRuMdu",
        "JQVjs4dcY5_r",
        "ExUjlhR-uMdx",
        "HmsFKw9cuMdy",
        "Pel564I5uMd0",
        "q8S4drecuMd0",
        "XOXyQIbfuMd1",
        "McW2xfvsuMd2",
        "cWy48EppuMeA",
        "3OuwbEfAuMeB",
        "McHIAkBBuMeF",
        "OBKFLiIbuMeZ",
        "0p_EtXxEuMea",
        "1MH9bsyaY93l"
      ],
      "toc_visible": true,
      "include_colab_link": true
    }
  },
  "cells": [
    {
      "cell_type": "markdown",
      "metadata": {
        "id": "view-in-github",
        "colab_type": "text"
      },
      "source": [
        "<a href=\"https://colab.research.google.com/github/TenthEdict/ILS695/blob/main/Python_101.ipynb\" target=\"_parent\"><img src=\"https://colab.research.google.com/assets/colab-badge.svg\" alt=\"Open In Colab\"/></a>"
      ]
    },
    {
      "cell_type": "markdown",
      "source": [
        "### ILS 695 Computational Text Analysis\n",
        "\n",
        "# CTA_Python 101 Part 1/**3**\n",
        "\n",
        "(01.10.2024)\n",
        "\n",
        "\n",
        "### ------------------------------------------------------------------\n",
        "\n"
      ],
      "metadata": {
        "id": "mOc-HCCRuMdu"
      }
    },
    {
      "cell_type": "markdown",
      "source": [
        "# Part 1 -- Hello World"
      ],
      "metadata": {
        "id": "JQVjs4dcY5_r"
      }
    },
    {
      "cell_type": "code",
      "source": [
        "#ctrl + M + Y to change text cell to code cell\n",
        "#ctrl + M + M to change code cell to text cell\n",
        "print('hello')"
      ],
      "metadata": {
        "id": "fRTO5RCROZ96"
      },
      "execution_count": null,
      "outputs": []
    },
    {
      "cell_type": "markdown",
      "metadata": {
        "id": "ExUjlhR-uMdx"
      },
      "source": [
        "## 1. About Python"
      ]
    },
    {
      "cell_type": "markdown",
      "metadata": {
        "id": "HmsFKw9cuMdy"
      },
      "source": [
        "### Why Python?\n",
        "\n",
        "[![XKCD 353: Python](https://imgs.xkcd.com/comics/python.png)](https://xkcd.com/353/)\n",
        "<br>https://www.explainxkcd.com/wiki/index.php/353:_Python\n",
        "\n",
        "* Python is a great language for learning\n",
        "  - Python is a relatively simple and highly readable language\n",
        "  - Python is a high-level interpreted language\n",
        "  - This makes is fairly easy to learn, and fun to code in\n",
        "  - Learning Python will make learning other languages easier\n",
        "  \n",
        "  \n",
        "* Python is powerful and multi-purpose\n",
        "  - Python can be used for almost anything, from writing simple scripts to automate tasks to building full-scale applications\n",
        "  - Python is “Batteries-Included” -- Python includes a huge range of modules that can be depended upon\n",
        "  - The broader Python community is huge and vibrant -- hundreds of thousands of third-party modules and tutorials cover almost all areas of computing\n",
        "    + In particular, for our purposes, Python is at the very center of the Data Science and Machine Learning ecosystems\n",
        "\n",
        "\n",
        "* Python is cross-platform and free and open-source\n",
        "  - Python is freely available and is maintained and governed by its community of users\n",
        "  - Because of this, and because of Python’s great versatility and popularity, it is available on more-or-less any computer system you are likely to come into contact with\n",
        "\n",
        "\n",
        "In short, an investment in learning Python is as safe a bet as you are likely to find, no matter where you are now or where you may want to go from here."
      ]
    },
    {
      "cell_type": "markdown",
      "metadata": {
        "id": "TZ-LSrP6uMdz"
      },
      "source": [
        "And in case you were wondering, Python is indeed named for Monty Python!\n",
        "\n",
        "![Python is named for Monty Python, of course...](data:image/png;base64,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)\n",
        "\n",
        "(from §1 of the [official Python tutorial](https://docs.python.org/3/tutorial/appetite.html).)"
      ]
    },
    {
      "cell_type": "markdown",
      "metadata": {
        "id": "Pel564I5uMd0"
      },
      "source": [
        "### A Note on Python Versions\n",
        "In this class, we will be working with Python 3, which is now more-or-less ubiquitous.  In particular, everything you will learn today will be compatible with Python versions `3.7` and up (the most recently released version is `3.10`).  Python 3 has been the standard for many years now, but be aware that you can still find older tutorials, articles, and especially printed books that are based on Python 2.  The differences are not hugely significant, but there are minor syntax changes that can cause problems."
      ]
    },
    {
      "cell_type": "code",
      "source": [
        "!python --version"
      ],
      "metadata": {
        "id": "I9cO3z9-SA1o",
        "outputId": "6ee4ec47-8790-483a-e4a8-77ad57f15dd4",
        "colab": {
          "base_uri": "https://localhost:8080/"
        }
      },
      "execution_count": null,
      "outputs": [
        {
          "output_type": "stream",
          "name": "stdout",
          "text": [
            "Python 3.10.12\n"
          ]
        }
      ]
    },
    {
      "cell_type": "markdown",
      "metadata": {
        "id": "q8S4drecuMd0"
      },
      "source": [
        "### Programs and Shells\n",
        "Python is an interpreted language -- this means that the code we write is executed by the python interpreter.\n",
        "\n",
        "There are many ways to write and run python code:\n",
        "  * as `.py` programs that are executed from a command-line or terminal environment;\n",
        "  * in an interactive shell, like a Python \"command prompt\";\n",
        "  * using interactive notebooks, like this one."
      ]
    },
    {
      "cell_type": "markdown",
      "metadata": {
        "id": "XOXyQIbfuMd1"
      },
      "source": [
        "## 2. Some Basic Language Features"
      ]
    },
    {
      "cell_type": "markdown",
      "metadata": {
        "id": "McW2xfvsuMd2"
      },
      "source": [
        "### The `print()` function\n",
        "The most basic way for a Python program to generate output is via the `print()` function, which `print`s directly to the console or terminal environment in which the Python interpreted is executed.  In our Jupyter / Google Colab notebooks, this produces output beneath the code cell:"
      ]
    },
    {
      "cell_type": "code",
      "metadata": {
        "id": "NdjYaIFDuMd2"
      },
      "source": [
        "print(\"Hello world!\")"
      ],
      "execution_count": null,
      "outputs": []
    },
    {
      "cell_type": "markdown",
      "metadata": {
        "id": "r3H-HLg2uMd6"
      },
      "source": [
        "Jupyter code cells (and other Python console environments) will also automatically output the _return value_ of a cell (or other code block) -- in our context here that means the last statement in a code cell:"
      ]
    },
    {
      "cell_type": "code",
      "metadata": {
        "id": "9YxxfkZtHWu6"
      },
      "source": [
        "\"Hello world!\" #this is a comment\n",
        "\"hi\""
      ],
      "execution_count": null,
      "outputs": []
    },
    {
      "cell_type": "code",
      "source": [
        "print(\"Hello world\")\n",
        "print(\"hi\")"
      ],
      "metadata": {
        "id": "S5ZVuzj-C64T"
      },
      "execution_count": null,
      "outputs": []
    },
    {
      "cell_type": "markdown",
      "metadata": {
        "id": "KH5_Us-tuMd9"
      },
      "source": [
        "For more information about the `print()` statement, we can access Python's built-in documentation and the Colab envionment's autocomplete and intellisense functionality."
      ]
    },
    {
      "cell_type": "code",
      "metadata": {
        "id": "uGTck062uMd-"
      },
      "source": [
        "# this is a comment\n",
        "print()  #comments are fine here\n",
        "\n",
        "#print(\"hello world\")"
      ],
      "execution_count": null,
      "outputs": []
    },
    {
      "cell_type": "markdown",
      "metadata": {
        "id": "cWy48EppuMeA"
      },
      "source": [
        "### Comments\n",
        "Comments are an important part of any program.  In Python, comments begin with `#`:\n",
        "\n",
        "```\n",
        "# This is a comment\n",
        "print(\"Hello world!\")\n",
        "\n",
        "```\n",
        "\n",
        "and they can also be used to annotate lines of code:\n",
        "```\n",
        "print(\"Hello world!\")  # Comments are fine here too!\n",
        "```\n",
        "\n",
        "Use comments liberally, when you are learning and even when you think you know exactly what you're doing.  Your comments should allow readers of your code to understand _why_ your code does what it does.  Remember that a primary audience for your comments will be you yourself when you revisit your code in the future!"
      ]
    },
    {
      "cell_type": "markdown",
      "metadata": {
        "id": "3OuwbEfAuMeB"
      },
      "source": [
        "### Indentation and Blocks\n",
        "**White-space** (specifically white-space at the beginning of lines) is meaningful in Python programs, and defines groups of statements which constitute _blocks_, which will become important when we discuss control flow and functions.  For now, note that indentation must be consistent in a python file -- the convention is to use four spaces.  Mixing up indentation levels will result in errors:"
      ]
    },
    {
      "cell_type": "code",
      "metadata": {
        "id": "QFZhxDW3uMeB"
      },
      "source": [
        "print(\"this is fine\")"
      ],
      "execution_count": null,
      "outputs": []
    },
    {
      "cell_type": "code",
      "metadata": {
        "id": "QbyCQ2czOzob"
      },
      "source": [
        "print(\" this is fine\")\n",
        "\n",
        "print(\"this is not\")"
      ],
      "execution_count": null,
      "outputs": []
    },
    {
      "cell_type": "markdown",
      "metadata": {
        "id": "McHIAkBBuMeF"
      },
      "source": [
        "## 3. Values, Types, and Variables\n",
        "\n",
        "For a program to be useful it needs to handle data in some way.  Each individual piece of information on which a Python program can operate is known as a **_value_**, or more generically as an **_object_**, and every object in Python has a **_type_**.  An object’s type determines what can and can’t be done with the object -- in particular, the attributes and items which are available on the object and its mutability.\n",
        "\n",
        "Python programs access these values through **_reference_**s, and these references can be **_literal_**s or **_variable_**s."
      ]
    },
    {
      "cell_type": "code",
      "metadata": {
        "id": "qgPs-mETuMeG"
      },
      "source": [
        "# a literal reference to a value is exactly what it is\n",
        "5"
      ],
      "execution_count": null,
      "outputs": []
    },
    {
      "cell_type": "code",
      "source": [
        "type(5.1)"
      ],
      "metadata": {
        "id": "xJI99O6AVC-R"
      },
      "execution_count": null,
      "outputs": []
    },
    {
      "cell_type": "code",
      "source": [
        "a = 5\n",
        "print(a)\n",
        "print(type(a))"
      ],
      "metadata": {
        "id": "Z6QtGT2yU776"
      },
      "execution_count": null,
      "outputs": []
    },
    {
      "cell_type": "code",
      "source": [
        "print('a')\n",
        "print(type('a'))"
      ],
      "metadata": {
        "id": "ablzngsps5hd"
      },
      "execution_count": null,
      "outputs": []
    },
    {
      "cell_type": "code",
      "source": [
        "print('b')"
      ],
      "metadata": {
        "id": "S2w2qllitee_"
      },
      "execution_count": null,
      "outputs": []
    },
    {
      "cell_type": "code",
      "source": [
        "print(b)"
      ],
      "metadata": {
        "id": "ML3_v9q9tZco"
      },
      "execution_count": null,
      "outputs": []
    },
    {
      "cell_type": "code",
      "metadata": {
        "id": "NEi_yLI7uMeK"
      },
      "source": [
        "# these references are sometimes called \"literal constants\"\n",
        "5 = 'a'"
      ],
      "execution_count": null,
      "outputs": []
    },
    {
      "cell_type": "code",
      "source": [
        "a5 = 5\n",
        "print(a5)"
      ],
      "metadata": {
        "id": "2-IAi2q0Fa6I"
      },
      "execution_count": null,
      "outputs": []
    },
    {
      "cell_type": "code",
      "source": [
        "for = 5"
      ],
      "metadata": {
        "id": "0P13O-sXFiS5"
      },
      "execution_count": null,
      "outputs": []
    },
    {
      "cell_type": "code",
      "source": [],
      "metadata": {
        "id": "HWjoc4iGt60n"
      },
      "execution_count": null,
      "outputs": []
    },
    {
      "cell_type": "markdown",
      "metadata": {
        "id": "xj13aIihuMeP"
      },
      "source": [
        "In order to store, change, or otherwise manipulate values, we create variables that reference values.  To create a variable reference, we must bind a value to an **_identifier_**.  Identifiers can be whatever we choose, but they must begin with an alphabetic character or an underscore `_` (i.e. they specifically must not begin with digits).  There are ~30 identifiers that are reserved **_keywords_** -- while valid identifiers, they may not be assigned values.  Note that variables (like everything else in Python) are case-sensitive.\n",
        "\n",
        "There are certain conventions that are commonly followed amongst Python programmers with respect to naming variables, although they are not binding (the above rules notwithstanding)."
      ]
    },
    {
      "cell_type": "code",
      "metadata": {
        "id": "LfVl7H7juMeQ"
      },
      "source": [
        "# notice that assignment creates no output\n",
        "my_variable = 5  # the name should be connected with underscore (no space)"
      ],
      "execution_count": null,
      "outputs": []
    },
    {
      "cell_type": "code",
      "metadata": {
        "id": "WoEHik1PuMeV"
      },
      "source": [
        "# if we ask the interpreter to evaluate the reference, we get output\n",
        "my_variable"
      ],
      "execution_count": null,
      "outputs": []
    },
    {
      "cell_type": "code",
      "metadata": {
        "id": "CrH8jL2vuMeY"
      },
      "source": [
        "# an important characteristic of a variable, of course, it that it can be changed\n",
        "my_variable = 10\n",
        "my_variable"
      ],
      "execution_count": null,
      "outputs": []
    },
    {
      "cell_type": "code",
      "source": [
        "a=5\n",
        "b=a\n",
        "print(a,b)"
      ],
      "metadata": {
        "id": "W8aBgWF0anBD"
      },
      "execution_count": null,
      "outputs": []
    },
    {
      "cell_type": "code",
      "source": [
        "a='new variable'\n",
        "b=a\n",
        "print(a,b)\n",
        "b=10\n",
        "print(a,b)"
      ],
      "metadata": {
        "id": "yS335wqhaxB4"
      },
      "execution_count": null,
      "outputs": []
    },
    {
      "cell_type": "markdown",
      "metadata": {
        "id": "OBKFLiIbuMeZ"
      },
      "source": [
        "### Native Datatypes\n",
        "\n",
        "Python has lots of native datatypes, but the most important ones are:\n",
        "\n",
        "* **Booleans** -- `True` or `False`\n",
        "* **Numbers** -- primarily integers and floats\n",
        "* **Strings** -- sequences of characters\n",
        "* **Lists** -- ordered sequences of values\n",
        "* **Tuples** -- like **list**s but immutable\n",
        "* **Dictionaries** -- unordered collections of key-value pairs\n",
        "* **Sets** -- unordered collections of values  Not in Python 2 new for Py3"
      ]
    },
    {
      "cell_type": "markdown",
      "metadata": {
        "id": "0p_EtXxEuMea"
      },
      "source": [
        "### Numbers, Booleans, and `None`\n",
        "\n",
        "Python has three built-in numeric types (**_integers_**, **_floating-point numbers_**, and **_complex numbers_**).  Decimal floating-point numbers and true fractions are possible using the standard library."
      ]
    },
    {
      "cell_type": "code",
      "metadata": {
        "id": "fhoowSQQuMeb"
      },
      "source": [
        "# integer literals can be expressed in decimal, binary, octal, or hexadecimal\n",
        "print(1, 23, 3493)          # Decimal integer literals\n",
        "print(0b010101, 0b110010)   # Binary integer literals\n",
        "print(0o1, 0o27, 0o6645)    # Octal integer literals\n",
        "print(0x1, 0x17, 0xDA5)     # Hexadecimal integer literals"
      ],
      "execution_count": null,
      "outputs": []
    },
    {
      "cell_type": "code",
      "metadata": {
        "id": "limthrGWuMed"
      },
      "source": [
        "# literal floating-point numbers can be expressed by the use of\n",
        "#  a decimal point (.) and/or an 'e' (with optional '+' or '-')\n",
        "#  denoting the exponent suffix\n",
        "print(119.4)\n",
        "print(12.0)\n",
        "print(1e10)\n",
        "print(1e0)\n",
        "print(2.9e16)"
      ],
      "execution_count": null,
      "outputs": []
    },
    {
      "cell_type": "code",
      "metadata": {
        "id": "a1EZrN3ruMef"
      },
      "source": [
        "# literal complex numbers are expressed as integer or floating-point\n",
        "#  literals with the suffix 'j' which indicates √-1\n",
        "print(0j)\n",
        "print(1.0e0j)"
      ],
      "execution_count": null,
      "outputs": []
    },
    {
      "cell_type": "code",
      "metadata": {
        "id": "tFexI3oYuMeh"
      },
      "source": [
        "# in recent versions of Python (<= 3.6), underscores ('_') can be\n",
        "#  used in numeric literals, to aid readability\n",
        "42_124_102"
      ],
      "execution_count": null,
      "outputs": []
    },
    {
      "cell_type": "markdown",
      "metadata": {
        "id": "WAEWgqQYuMek"
      },
      "source": [
        "Two special values `True` and `False` exist to represent the boolean values (note the initial capitalization)."
      ]
    },
    {
      "cell_type": "code",
      "metadata": {
        "id": "qqKO-s0RuMek"
      },
      "source": [
        "# the boolean values True and False can be treated like literal constants\n",
        "True"
      ],
      "execution_count": null,
      "outputs": []
    },
    {
      "cell_type": "code",
      "metadata": {
        "id": "pFrJ-wZFuMem"
      },
      "source": [
        "# although they're technically keywords\n",
        "True = 5"
      ],
      "execution_count": null,
      "outputs": []
    },
    {
      "cell_type": "markdown",
      "metadata": {
        "id": "eNzmzc9ZuMep"
      },
      "source": [
        "Finally the built-in object `None` represents a null value.  It can be used as a stand-in placeholder when required, or specifically to indicate the lack of a value.  It is also the default **_return value_** for functions that don't otherwise specify one, and for statements that do not evaluate to any value."
      ]
    },
    {
      "cell_type": "code",
      "metadata": {
        "id": "JiRe-QqLuMeq"
      },
      "source": [
        "# note that in a notebook environment, no output is generated if `None` is returned\n",
        "None"
      ],
      "execution_count": null,
      "outputs": []
    },
    {
      "cell_type": "markdown",
      "source": [
        "####Python Errors"
      ],
      "metadata": {
        "id": "1MH9bsyaY93l"
      }
    },
    {
      "cell_type": "markdown",
      "source": [
        "Two General types of errors:\n",
        "\n",
        "\n",
        "*   Syntax\n",
        "*   Exception\n",
        "\n",
        "Syntax errors are caused by structural mistakes in the Python code. </br>\n",
        "Exceptions occur during code execution."
      ],
      "metadata": {
        "id": "SwUXf_6Lb8CS"
      }
    },
    {
      "cell_type": "code",
      "source": [
        "#Example 1 of Syntax Errors\n",
        "True = 5"
      ],
      "metadata": {
        "id": "YE5F803rcAUH"
      },
      "execution_count": null,
      "outputs": []
    },
    {
      "cell_type": "code",
      "source": [
        "#Example 2 of Syntax Errors\n",
        "print \"hello world\""
      ],
      "metadata": {
        "id": "OeL-5-PZcYEM"
      },
      "execution_count": null,
      "outputs": []
    },
    {
      "cell_type": "code",
      "source": [
        "#Example 1 of Exceptions\n",
        "sum([True])"
      ],
      "metadata": {
        "id": "1jC-S3BOcHoF"
      },
      "execution_count": null,
      "outputs": []
    },
    {
      "cell_type": "code",
      "source": [
        "sum([False,True])"
      ],
      "metadata": {
        "id": "LwghSqEeI3Cx"
      },
      "execution_count": null,
      "outputs": []
    },
    {
      "cell_type": "code",
      "source": [
        "'hello' == 'Hello'"
      ],
      "metadata": {
        "id": "pisY6AsnJE78"
      },
      "execution_count": null,
      "outputs": []
    },
    {
      "cell_type": "code",
      "source": [
        "#Example 2 of Exceptions\n",
        "X='Capical X'\n",
        "x=5\n",
        "y=3\n",
        "X+y"
      ],
      "metadata": {
        "id": "2jcd8mRcch4T"
      },
      "execution_count": null,
      "outputs": []
    },
    {
      "cell_type": "markdown",
      "source": [
        "More information about Python errors: https://realpython.com/python-traceback/ </br>\n",
        "\n",
        "\n",
        "Still need more help? </br>\n",
        "\n",
        "*   Ask google\n",
        "*   W3School (Good for basic functions): https://www.w3schools.com/python/\n",
        "*   Stackoverflow (Good for complicated questions): https://stackoverflow.com/  \n",
        "\n",
        "\n"
      ],
      "metadata": {
        "id": "gwHPUlgAcuxw"
      }
    }
  ]
}